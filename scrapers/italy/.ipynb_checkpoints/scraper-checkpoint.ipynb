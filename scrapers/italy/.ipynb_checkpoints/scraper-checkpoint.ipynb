{
 "cells": [
  {
   "cell_type": "code",
   "execution_count": 1,
   "metadata": {},
   "outputs": [],
   "source": [
    "import requests\n",
    "from csv import DictWriter\n",
    "from bs4 import BeautifulSoup\n",
    "from datetime import date"
   ]
  },
  {
   "cell_type": "code",
   "execution_count": 2,
   "metadata": {},
   "outputs": [],
   "source": [
    "# Get data from website\n",
    "url = \"https://portale.fnomceo.it/elenco-dei-medici-caduti-nel-corso-dellepidemia-di-covid-19/\"\n",
    "request = requests.get(url)\n",
    "html = request.content\n",
    "soup = BeautifulSoup(html)"
   ]
  },
  {
   "cell_type": "code",
   "execution_count": 3,
   "metadata": {},
   "outputs": [],
   "source": [
    "# Find the main list on the page\n",
    "main_content = soup.find(\"div\", class_= \"entry-content typography\")\n",
    "main_list = main_content.find(\"ol\")\n",
    "\n",
    "list_elements = main_list.find_all(\"li\")"
   ]
  },
  {
   "cell_type": "code",
   "execution_count": 15,
   "metadata": {},
   "outputs": [],
   "source": [
    "# Extract information from each list element\n",
    "outputs = []\n",
    "for element in list_elements:\n",
    "    \n",
    "    name = element.find(\"strong\").text\n",
    "    \n",
    "    br_tag = element.find(\"br\")\n",
    "\n",
    "    if br_tag is not None and br_tag.parent.name == \"li\": # Most common case\n",
    "        occupation = br_tag.next_sibling.strip()\n",
    "        dod = br_tag.previous_sibling\n",
    "    elif br_tag is None: # Sometimes no location data\n",
    "        occupation = None\n",
    "        dod = element.find(\"strong\").next_sibling\n",
    "    elif br_tag.parent.name == \"strong\": # Sometimes br is wrapped in strong\n",
    "        occupation = br_tag.parent.next_sibling.strip()\n",
    "        dod = br_tag.parent.previous_sibling\n",
    "  \n",
    "    outputs.append({\n",
    "        \"name\" : name,\n",
    "        \"occupation\" : occupation,\n",
    "        \"dod\" : dod\n",
    "    })"
   ]
  },
  {
   "cell_type": "code",
   "execution_count": 16,
   "metadata": {},
   "outputs": [],
   "source": [
    "# CSVs will be named after the date of the scrape\n",
    "today = date.today()\n",
    "today = today.strftime(\"%Y-%m-%d\")\n",
    "file_name = \"data/\" + today + \".csv\""
   ]
  },
  {
   "cell_type": "code",
   "execution_count": 17,
   "metadata": {},
   "outputs": [],
   "source": [
    "# Write to CSV\n",
    "with open(file_name, \"w\") as f:\n",
    "    field_names = [\"name\", \"occupation\", \"dod\"]\n",
    "    writer = DictWriter(f, fieldnames = field_names)\n",
    "    writer.writeheader()\n",
    "    writer.writerows(outputs)"
   ]
  }
 ],
 "metadata": {
  "kernelspec": {
   "display_name": "Python 3",
   "language": "python",
   "name": "python3"
  },
  "language_info": {
   "codemirror_mode": {
    "name": "ipython",
    "version": 3
   },
   "file_extension": ".py",
   "mimetype": "text/x-python",
   "name": "python",
   "nbconvert_exporter": "python",
   "pygments_lexer": "ipython3",
   "version": "3.7.4"
  }
 },
 "nbformat": 4,
 "nbformat_minor": 2
}
